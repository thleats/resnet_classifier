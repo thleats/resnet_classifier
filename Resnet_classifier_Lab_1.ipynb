{
  "nbformat": 4,
  "nbformat_minor": 0,
  "metadata": {
    "colab": {
      "name": "Resnet_classifier_Lab_1.ipynb",
      "provenance": [],
      "authorship_tag": "ABX9TyNSWLRNi15kNG30JhZlj7r5"
    },
    "kernelspec": {
      "name": "python3",
      "display_name": "Python 3"
    }
  },
  "cells": [
    {
      "cell_type": "code",
      "metadata": {
        "id": "4UPg6TUxEw3n",
        "colab_type": "code",
        "colab": {}
      },
      "source": [
        ""
      ],
      "execution_count": 0,
      "outputs": []
    }
  ]
}