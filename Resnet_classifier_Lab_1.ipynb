{
  "nbformat": 4,
  "nbformat_minor": 0,
  "metadata": {
    "colab": {
      "name": "Resnet_classifier_Lab_1.ipynb",
      "provenance": [],
      "authorship_tag": "ABX9TyMyTkCRfWuqv20NePa4U7gD"
    },
    "kernelspec": {
      "name": "python3",
      "display_name": "Python 3"
    },
    "accelerator": "GPU"
  },
  "cells": [
    {
      "cell_type": "code",
      "metadata": {
        "id": "4UPg6TUxEw3n",
        "colab_type": "code",
        "colab": {
          "base_uri": "https://localhost:8080/",
          "height": 71
        },
        "outputId": "25dc1c85-6c9a-42fe-8add-da391d7322dd"
      },
      "source": [
        "import torchvision\n",
        "from torchvision import transforms, datasets\n",
        "from torch.utils.data import DataLoader, Dataset\n",
        "import torch\n",
        "from torch import optim, nn\n",
        "import os\n",
        "import sys\n",
        "from PIL import Image, ImageOps\n",
        "from tqdm import tqdm\n",
        "import numpy as np\n",
        "from matplotlib import pyplot as plt\n",
        "from os import path\n",
        "import urllib.request\n",
        "import pdb\n",
        "from torch.utils import data\n",
        "\n",
        "root = '/content/dataset'\n",
        "train_dataset = torchvision.datasets.CIFAR10(root, train=True, transform=None, target_transform=None, download=True)\n",
        "test_dataset = torchvision.datasets.CIFAR10(root, train=False, transform=None, target_transform=None, download=True)\n",
        "\n",
        "class Dataset(data.Dataset):\n",
        "  'Characterizes a dataset for PyTorch'\n",
        "  def __init__(self,dataset):\n",
        "    'Initialization'\n",
        "    self.dataset=dataset\n",
        "  def __len__(self):\n",
        "    'Denotes the total number of samples'\n",
        "    return len(self.dataset)\n",
        "    #return 1024\n",
        "  def __getitem__(self, index):\n",
        "    'Generates one sample of data'\n",
        "    # Select sample\n",
        "    x,label = (self.dataset[index])\n",
        "\n",
        "    transform=transforms.Compose([transforms.ToTensor()])\n",
        "    im = transform(x)\n",
        "    return im, label\n",
        "\n",
        "train_loader = Dataset(train_dataset)\n",
        "test_loader = Dataset(test_dataset)\n",
        "\n",
        "batch_size=20\n",
        "params={'batch_size':batch_size,'shuffle':True}\n",
        "training_generator=data.DataLoader(train_loader,**params)\n",
        "test_generator=data.DataLoader(test_loader,**params)"
      ],
      "execution_count": 2,
      "outputs": [
        {
          "output_type": "stream",
          "text": [
            "\r0it [00:00, ?it/s]"
          ],
          "name": "stderr"
        },
        {
          "output_type": "stream",
          "text": [
            "Downloading https://www.cs.toronto.edu/~kriz/cifar-10-python.tar.gz to /content/dataset/cifar-10-python.tar.gz\n"
          ],
          "name": "stdout"
        },
        {
          "output_type": "stream",
          "text": [
            "100%|█████████▉| 169730048/170498071 [00:14<00:00, 12986699.08it/s]"
          ],
          "name": "stderr"
        },
        {
          "output_type": "stream",
          "text": [
            "Extracting /content/dataset/cifar-10-python.tar.gz to /content/dataset\n",
            "Files already downloaded and verified\n"
          ],
          "name": "stdout"
        }
      ]
    },
    {
      "cell_type": "code",
      "metadata": {
        "id": "K1VrWhEaGA4I",
        "colab_type": "code",
        "colab": {}
      },
      "source": [
        "class resnet20(nn.Module):\n",
        "  def __init__(self):\n",
        "    super(resnet20,self).__init__()\n",
        "    c=3\n",
        "    out = 10\n",
        "    channels=32\n",
        "    #####Create the first block\n",
        "    self.conv1=nn.Conv2d(c,channels,(3,3),padding=(1,1))\n",
        "\n",
        "    #stage1\n",
        "    self.conv2=nn.Conv2d(channels,channels,(3,3),padding=(1,1))\n",
        "    #stage2\n",
        "    self.conv3=nn.Conv2d(channels,channels*2,(3,3),padding=(1,1))\n",
        "    #stage3\n",
        "    self.conv4=nn.Conv2d(channels*2,channels*2,(3,3),padding=(1,1))\n",
        "    #stage4\n",
        "    self.conv5=nn.Conv2d(channels*8,channels*8,(3,3),padding=(1,1))\n",
        "\n",
        "    \n",
        "    self.bn1=nn.BatchNorm2d(channels)\n",
        "    self.bn2=nn.BatchNorm2d(channels*2)\n",
        "    self.bn3=nn.BatchNorm2d(channels*4)\n",
        "    self.bn4=nn.BatchNorm2d(channels*8)\n",
        "    self.activation = nn.ReLU()\n",
        "    self.m1=nn.AdaptiveMaxPool2d(16)\n",
        "    self.m2=nn.AdaptiveMaxPool2d(8)\n",
        "    self.m3=nn.AdaptiveMaxPool2d(4)\n",
        "\n",
        "  \n",
        "  def forward(self,x):\n",
        "    def block(in1,stage):\n",
        "      if stage==1:\n",
        "        o2=self.activation(self.bn1(self.conv2(in1)))\n",
        "        o3=self.conv2(o2)\n",
        "        o4=in1 + o3\n",
        "        o5 = self.activation(self.bn1(o4))\n",
        "        return(o5)\n",
        "\n",
        "      elif stage==2:\n",
        "        o2=self.activation(self.bn2(self.conv3(in1)))\n",
        "        o3=self.conv3(o2)\n",
        "        o4=in1 + o3\n",
        "        o5 = self.activation(self.bn2(o4))\n",
        "        return(o5)\n",
        "\n",
        "      elif stage==3:\n",
        "        o2=self.activation(self.bn3(self.conv4(in1)))\n",
        "        o3=self.conv4(o2)\n",
        "        o4=in1 + o3\n",
        "        o5 = self.activation(self.bn3(o4))\n",
        "        return(o5)\n",
        "\n",
        "      elif stage==4:\n",
        "        o2=self.activation(self.bn4(self.conv5(in1)))\n",
        "        o3=self.conv5(o2)\n",
        "        o4=in1 + o3\n",
        "        o5 = self.activation(self.bn4(o4))\n",
        "        return(o5)\n",
        "\n",
        "    n,c,h,w = x.size()\n",
        "    #3 channels\n",
        "\n",
        "    o1=self.activation(self.bn1(self.conv1(x)))\n",
        "\n",
        "    #32 channels - stage 1\n",
        "\n",
        "    \n",
        "    stage=1\n",
        "    block1=block(o1,stage)\n",
        "    block2=block(block1,stage)\n",
        "    block3=block(block2,stage)\n",
        "\n",
        "    #32 channels\n",
        "    pdb.set_trace()\n",
        "    block4=self.activation(self.bn2(self.m1(self.conv3(block3))))\n",
        "    block5=self.conv4(block4)\n",
        "    block5_2=block5+block4\n",
        "    block5_3=self.activation(self.bn2(block5_2))\n",
        "\n",
        "\n",
        "    #64 channels - stage 2\n",
        "\n",
        "    stage+=1\n",
        "    block6=block(block5_3,stage)\n",
        "    block7=block(block6,stage)\n",
        "    block8=block(block7,stage)\n",
        "\n",
        "    #64 channels\n",
        "\n",
        "    #block9\n",
        "    #block10\n",
        "\n",
        "    #128 channels - stage 3\n",
        "    #stage+=1\n",
        "    #block11\n",
        "    #block12\n",
        "    #block13\n",
        "\n",
        "    #128 channels \n",
        "\n",
        "    #block14\n",
        "    #block15\n",
        "\n",
        "    #256 channels - stage 4\n",
        "    #stage+=1\n",
        "    #block16\n",
        "    #block17\n",
        "    #block18\n",
        "    #block19\n",
        "    #block20\n",
        "\n",
        "    #256 channels\n",
        "\n",
        "    #fc \n",
        "\n",
        "    return o27.squeeze(2).squeeze(2)\n",
        "\n",
        "model = resnet20()"
      ],
      "execution_count": 0,
      "outputs": []
    },
    {
      "cell_type": "code",
      "metadata": {
        "id": "GpozjRKGLAp7",
        "colab_type": "code",
        "colab": {
          "base_uri": "https://localhost:8080/",
          "height": 693
        },
        "outputId": "436847d4-042a-4ffb-8716-b9623996ec7c"
      },
      "source": [
        "for image,label in training_generator:\n",
        "  yhat = model(image)\n",
        "  break"
      ],
      "execution_count": 4,
      "outputs": [
        {
          "output_type": "stream",
          "text": [
            "> <ipython-input-3-36e4bfa554ae>(75)forward()\n",
            "-> block4=self.activation(self.bn2(self.m1(self.conv3(block3))))\n",
            "(Pdb) n\n"
          ],
          "name": "stdout"
        },
        {
          "output_type": "stream",
          "text": [
            "\r170500096it [00:30, 12986699.08it/s]                               "
          ],
          "name": "stderr"
        },
        {
          "output_type": "stream",
          "text": [
            "> <ipython-input-3-36e4bfa554ae>(76)forward()\n",
            "-> block5=self.conv4(block4)\n",
            "(Pdb) n\n",
            "> <ipython-input-3-36e4bfa554ae>(77)forward()\n",
            "-> block5_2=block5+block4\n",
            "(Pdb) block5.size()\n",
            "torch.Size([20, 64, 16, 16])\n",
            "(Pdb) n\n",
            "> <ipython-input-3-36e4bfa554ae>(78)forward()\n",
            "-> block5_3=self.activation(self.bn2)\n",
            "(Pdb) n\n",
            "TypeError: relu(): argument 'input' (position 1) must be Tensor, not BatchNorm2d\n",
            "> <ipython-input-3-36e4bfa554ae>(78)forward()\n",
            "-> block5_3=self.activation(self.bn2)\n",
            "(Pdb) \u0004\n",
            "\n"
          ],
          "name": "stdout"
        },
        {
          "output_type": "error",
          "ename": "BdbQuit",
          "evalue": "ignored",
          "traceback": [
            "\u001b[0;31m---------------------------------------------------------------------------\u001b[0m",
            "\u001b[0;31mBdbQuit\u001b[0m                                   Traceback (most recent call last)",
            "\u001b[0;32m<ipython-input-4-751d322dcba4>\u001b[0m in \u001b[0;36m<module>\u001b[0;34m()\u001b[0m\n\u001b[1;32m      1\u001b[0m \u001b[0;32mfor\u001b[0m \u001b[0mimage\u001b[0m\u001b[0;34m,\u001b[0m\u001b[0mlabel\u001b[0m \u001b[0;32min\u001b[0m \u001b[0mtraining_generator\u001b[0m\u001b[0;34m:\u001b[0m\u001b[0;34m\u001b[0m\u001b[0;34m\u001b[0m\u001b[0m\n\u001b[0;32m----> 2\u001b[0;31m   \u001b[0myhat\u001b[0m \u001b[0;34m=\u001b[0m \u001b[0mmodel\u001b[0m\u001b[0;34m(\u001b[0m\u001b[0mimage\u001b[0m\u001b[0;34m)\u001b[0m\u001b[0;34m\u001b[0m\u001b[0;34m\u001b[0m\u001b[0m\n\u001b[0m\u001b[1;32m      3\u001b[0m   \u001b[0;32mbreak\u001b[0m\u001b[0;34m\u001b[0m\u001b[0;34m\u001b[0m\u001b[0m\n",
            "\u001b[0;32m/usr/local/lib/python3.6/dist-packages/torch/nn/modules/module.py\u001b[0m in \u001b[0;36m__call__\u001b[0;34m(self, *input, **kwargs)\u001b[0m\n\u001b[1;32m    539\u001b[0m             \u001b[0mresult\u001b[0m \u001b[0;34m=\u001b[0m \u001b[0mself\u001b[0m\u001b[0;34m.\u001b[0m\u001b[0m_slow_forward\u001b[0m\u001b[0;34m(\u001b[0m\u001b[0;34m*\u001b[0m\u001b[0minput\u001b[0m\u001b[0;34m,\u001b[0m \u001b[0;34m**\u001b[0m\u001b[0mkwargs\u001b[0m\u001b[0;34m)\u001b[0m\u001b[0;34m\u001b[0m\u001b[0;34m\u001b[0m\u001b[0m\n\u001b[1;32m    540\u001b[0m         \u001b[0;32melse\u001b[0m\u001b[0;34m:\u001b[0m\u001b[0;34m\u001b[0m\u001b[0;34m\u001b[0m\u001b[0m\n\u001b[0;32m--> 541\u001b[0;31m             \u001b[0mresult\u001b[0m \u001b[0;34m=\u001b[0m \u001b[0mself\u001b[0m\u001b[0;34m.\u001b[0m\u001b[0mforward\u001b[0m\u001b[0;34m(\u001b[0m\u001b[0;34m*\u001b[0m\u001b[0minput\u001b[0m\u001b[0;34m,\u001b[0m \u001b[0;34m**\u001b[0m\u001b[0mkwargs\u001b[0m\u001b[0;34m)\u001b[0m\u001b[0;34m\u001b[0m\u001b[0;34m\u001b[0m\u001b[0m\n\u001b[0m\u001b[1;32m    542\u001b[0m         \u001b[0;32mfor\u001b[0m \u001b[0mhook\u001b[0m \u001b[0;32min\u001b[0m \u001b[0mself\u001b[0m\u001b[0;34m.\u001b[0m\u001b[0m_forward_hooks\u001b[0m\u001b[0;34m.\u001b[0m\u001b[0mvalues\u001b[0m\u001b[0;34m(\u001b[0m\u001b[0;34m)\u001b[0m\u001b[0;34m:\u001b[0m\u001b[0;34m\u001b[0m\u001b[0;34m\u001b[0m\u001b[0m\n\u001b[1;32m    543\u001b[0m             \u001b[0mhook_result\u001b[0m \u001b[0;34m=\u001b[0m \u001b[0mhook\u001b[0m\u001b[0;34m(\u001b[0m\u001b[0mself\u001b[0m\u001b[0;34m,\u001b[0m \u001b[0minput\u001b[0m\u001b[0;34m,\u001b[0m \u001b[0mresult\u001b[0m\u001b[0;34m)\u001b[0m\u001b[0;34m\u001b[0m\u001b[0;34m\u001b[0m\u001b[0m\n",
            "\u001b[0;32m<ipython-input-3-36e4bfa554ae>\u001b[0m in \u001b[0;36mforward\u001b[0;34m(self, x)\u001b[0m\n\u001b[1;32m     76\u001b[0m     \u001b[0mblock5\u001b[0m\u001b[0;34m=\u001b[0m\u001b[0mself\u001b[0m\u001b[0;34m.\u001b[0m\u001b[0mconv4\u001b[0m\u001b[0;34m(\u001b[0m\u001b[0mblock4\u001b[0m\u001b[0;34m)\u001b[0m\u001b[0;34m\u001b[0m\u001b[0;34m\u001b[0m\u001b[0m\n\u001b[1;32m     77\u001b[0m     \u001b[0mblock5_2\u001b[0m\u001b[0;34m=\u001b[0m\u001b[0mblock5\u001b[0m\u001b[0;34m+\u001b[0m\u001b[0mblock4\u001b[0m\u001b[0;34m\u001b[0m\u001b[0;34m\u001b[0m\u001b[0m\n\u001b[0;32m---> 78\u001b[0;31m     \u001b[0mblock5_3\u001b[0m\u001b[0;34m=\u001b[0m\u001b[0mself\u001b[0m\u001b[0;34m.\u001b[0m\u001b[0mactivation\u001b[0m\u001b[0;34m(\u001b[0m\u001b[0mself\u001b[0m\u001b[0;34m.\u001b[0m\u001b[0mbn2\u001b[0m\u001b[0;34m)\u001b[0m\u001b[0;34m\u001b[0m\u001b[0;34m\u001b[0m\u001b[0m\n\u001b[0m\u001b[1;32m     79\u001b[0m \u001b[0;34m\u001b[0m\u001b[0m\n\u001b[1;32m     80\u001b[0m \u001b[0;34m\u001b[0m\u001b[0m\n",
            "\u001b[0;32m/usr/lib/python3.6/bdb.py\u001b[0m in \u001b[0;36mtrace_dispatch\u001b[0;34m(self, frame, event, arg)\u001b[0m\n\u001b[1;32m     55\u001b[0m             \u001b[0;32mreturn\u001b[0m \u001b[0mself\u001b[0m\u001b[0;34m.\u001b[0m\u001b[0mdispatch_return\u001b[0m\u001b[0;34m(\u001b[0m\u001b[0mframe\u001b[0m\u001b[0;34m,\u001b[0m \u001b[0marg\u001b[0m\u001b[0;34m)\u001b[0m\u001b[0;34m\u001b[0m\u001b[0;34m\u001b[0m\u001b[0m\n\u001b[1;32m     56\u001b[0m         \u001b[0;32mif\u001b[0m \u001b[0mevent\u001b[0m \u001b[0;34m==\u001b[0m \u001b[0;34m'exception'\u001b[0m\u001b[0;34m:\u001b[0m\u001b[0;34m\u001b[0m\u001b[0;34m\u001b[0m\u001b[0m\n\u001b[0;32m---> 57\u001b[0;31m             \u001b[0;32mreturn\u001b[0m \u001b[0mself\u001b[0m\u001b[0;34m.\u001b[0m\u001b[0mdispatch_exception\u001b[0m\u001b[0;34m(\u001b[0m\u001b[0mframe\u001b[0m\u001b[0;34m,\u001b[0m \u001b[0marg\u001b[0m\u001b[0;34m)\u001b[0m\u001b[0;34m\u001b[0m\u001b[0;34m\u001b[0m\u001b[0m\n\u001b[0m\u001b[1;32m     58\u001b[0m         \u001b[0;32mif\u001b[0m \u001b[0mevent\u001b[0m \u001b[0;34m==\u001b[0m \u001b[0;34m'c_call'\u001b[0m\u001b[0;34m:\u001b[0m\u001b[0;34m\u001b[0m\u001b[0;34m\u001b[0m\u001b[0m\n\u001b[1;32m     59\u001b[0m             \u001b[0;32mreturn\u001b[0m \u001b[0mself\u001b[0m\u001b[0;34m.\u001b[0m\u001b[0mtrace_dispatch\u001b[0m\u001b[0;34m\u001b[0m\u001b[0;34m\u001b[0m\u001b[0m\n",
            "\u001b[0;32m/usr/lib/python3.6/bdb.py\u001b[0m in \u001b[0;36mdispatch_exception\u001b[0;34m(self, frame, arg)\u001b[0m\n\u001b[1;32m    111\u001b[0m                     and arg[0] is StopIteration and arg[2] is None):\n\u001b[1;32m    112\u001b[0m                 \u001b[0mself\u001b[0m\u001b[0;34m.\u001b[0m\u001b[0muser_exception\u001b[0m\u001b[0;34m(\u001b[0m\u001b[0mframe\u001b[0m\u001b[0;34m,\u001b[0m \u001b[0marg\u001b[0m\u001b[0;34m)\u001b[0m\u001b[0;34m\u001b[0m\u001b[0;34m\u001b[0m\u001b[0m\n\u001b[0;32m--> 113\u001b[0;31m                 \u001b[0;32mif\u001b[0m \u001b[0mself\u001b[0m\u001b[0;34m.\u001b[0m\u001b[0mquitting\u001b[0m\u001b[0;34m:\u001b[0m \u001b[0;32mraise\u001b[0m \u001b[0mBdbQuit\u001b[0m\u001b[0;34m\u001b[0m\u001b[0;34m\u001b[0m\u001b[0m\n\u001b[0m\u001b[1;32m    114\u001b[0m         \u001b[0;31m# Stop at the StopIteration or GeneratorExit exception when the user\u001b[0m\u001b[0;34m\u001b[0m\u001b[0;34m\u001b[0m\u001b[0;34m\u001b[0m\u001b[0m\n\u001b[1;32m    115\u001b[0m         \u001b[0;31m# has set stopframe in a generator by issuing a return command, or a\u001b[0m\u001b[0;34m\u001b[0m\u001b[0;34m\u001b[0m\u001b[0;34m\u001b[0m\u001b[0m\n",
            "\u001b[0;31mBdbQuit\u001b[0m: "
          ]
        }
      ]
    }
  ]
}